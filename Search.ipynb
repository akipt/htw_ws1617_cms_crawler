{
 "cells": [
  {
   "cell_type": "code",
   "execution_count": 1,
   "metadata": {
    "collapsed": true
   },
   "outputs": [],
   "source": [
    "from search import Search3"
   ]
  },
  {
   "cell_type": "markdown",
   "metadata": {},
   "source": [
    "## Freitext-/Keywordsuche\n",
    "\n",
    "Alle zu den Suchbegriffen passenden Seiten werden ausgegeben, gerankt nach TF-IDF"
   ]
  },
  {
   "cell_type": "code",
   "execution_count": 2,
   "metadata": {
    "collapsed": false
   },
   "outputs": [
    {
     "name": "stdout",
     "output_type": "stream",
     "text": [
      "Freitextsuche: 'Informatik HTW'\n",
      "\n",
      "\td4\n",
      "\td1\n",
      "\td2\n",
      "\td3\n",
      "\td5\n"
     ]
    }
   ],
   "source": [
    "\n",
    "query = \"Informatik HTW\"\n",
    "\n",
    "\n",
    "\n",
    "\n",
    "print(\"Freitextsuche: '\" + query + \"'\\n\")\n",
    "ergebnis = Search3.process(query.split())\n",
    "for e in ergebnis:\n",
    "    print('\\t' + e)"
   ]
  },
  {
   "cell_type": "markdown",
   "metadata": {},
   "source": [
    "## Phrasensuche\n",
    "Nur Dokumente, die die gesuchten Begriffe hintereinander in der angegebenen Reihenfolge enthalten, werden ausgegeben (sortiert nach Dokumenten-ID)"
   ]
  },
  {
   "cell_type": "code",
   "execution_count": 3,
   "metadata": {
    "collapsed": false
   },
   "outputs": [
    {
     "name": "stdout",
     "output_type": "stream",
     "text": [
      "Suche nach Phrase: 'Informatik HTW'\n",
      "\n",
      "\td1\n",
      "\td4\n",
      "\td5\n"
     ]
    }
   ],
   "source": [
    "\n",
    "query = \"Informatik HTW\"\n",
    "\n",
    "\n",
    "\n",
    "\n",
    "print(\"Suche nach Phrase: '\" + query + \"'\\n\")\n",
    "ergebnis = Search3.process(['-p', query])\n",
    "for e in ergebnis:\n",
    "    print('\\t' + e)"
   ]
  },
  {
   "cell_type": "markdown",
   "metadata": {},
   "source": [
    "## Suchverfeinerung mittels logischer Operatoren\n",
    "Die Ergebnismengen zu einzelnen Suchbegriffen werden gemäß der Aussagenlogik der Anfrage gemerged"
   ]
  },
  {
   "cell_type": "code",
   "execution_count": 4,
   "metadata": {
    "collapsed": false
   },
   "outputs": [
    {
     "name": "stdout",
     "output_type": "stream",
     "text": [
      "Suche nach: 'Informatik AND (HTW OR HWR) AND NOT Bauing.'\n",
      "\n",
      "\td4\n",
      "\td5\n"
     ]
    }
   ],
   "source": [
    "# Suche mit Logischen Operatoren\n",
    "from search import Search3\n",
    "\n",
    "\n",
    "\n",
    "\n",
    "query = \"Informatik AND (HTW OR HWR) AND NOT Bauing.\"\n",
    "\n",
    "\n",
    "\n",
    "\n",
    "print(\"Suche nach: '\" + query + \"'\\n\")\n",
    "ergebnis = Search3.process(['-b', query])\n",
    "for e in ergebnis:\n",
    "    print('\\t' + e)"
   ]
  },
  {
   "cell_type": "code",
   "execution_count": null,
   "metadata": {
    "collapsed": true
   },
   "outputs": [],
   "source": []
  }
 ],
 "metadata": {
  "kernelspec": {
   "display_name": "Python 3",
   "language": "python",
   "name": "python3"
  },
  "language_info": {
   "codemirror_mode": {
    "name": "ipython",
    "version": 3
   },
   "file_extension": ".py",
   "mimetype": "text/x-python",
   "name": "python",
   "nbconvert_exporter": "python",
   "pygments_lexer": "ipython3",
   "version": "3.5.2"
  }
 },
 "nbformat": 4,
 "nbformat_minor": 2
}
